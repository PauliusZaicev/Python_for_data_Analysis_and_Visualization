{
 "cells": [
  {
   "cell_type": "code",
   "execution_count": 3,
   "metadata": {},
   "outputs": [],
   "source": [
    "import pandas as pd\n",
    "\n",
    "import numpy as np\n",
    "\n",
    "from pandas import Series, DataFrame\n",
    "\n",
    "from numpy.random import randn"
   ]
  },
  {
   "cell_type": "code",
   "execution_count": 6,
   "metadata": {},
   "outputs": [
    {
     "data": {
      "text/plain": [
       "A    1\n",
       "B    2\n",
       "C    3\n",
       "D    4\n",
       "dtype: int64"
      ]
     },
     "execution_count": 6,
     "metadata": {},
     "output_type": "execute_result"
    }
   ],
   "source": [
    "ser1 = Series ([1,2,3,4], index = ['A', 'B', 'C', 'D'])\n",
    "\n",
    "ser1"
   ]
  },
  {
   "cell_type": "code",
   "execution_count": 7,
   "metadata": {},
   "outputs": [
    {
     "data": {
      "text/plain": [
       "A    1.0\n",
       "B    2.0\n",
       "C    3.0\n",
       "D    4.0\n",
       "E    NaN\n",
       "F    NaN\n",
       "dtype: float64"
      ]
     },
     "execution_count": 7,
     "metadata": {},
     "output_type": "execute_result"
    }
   ],
   "source": [
    "#reindex\n",
    "ser2 = ser1.reindex(['A','B','C','D','E','F'])\n",
    "ser2"
   ]
  },
  {
   "cell_type": "code",
   "execution_count": 8,
   "metadata": {},
   "outputs": [
    {
     "data": {
      "text/plain": [
       "A    1.0\n",
       "B    2.0\n",
       "C    3.0\n",
       "D    4.0\n",
       "E    NaN\n",
       "F    NaN\n",
       "G    0.0\n",
       "dtype: float64"
      ]
     },
     "execution_count": 8,
     "metadata": {},
     "output_type": "execute_result"
    }
   ],
   "source": [
    "#fill added empty valuewith a 0, e & F stay nul as they existed in the previous index\n",
    "\n",
    "ser2.reindex(['A','B','C','D','E','F','G'], fill_value=0)"
   ]
  },
  {
   "cell_type": "code",
   "execution_count": 15,
   "metadata": {},
   "outputs": [
    {
     "data": {
      "text/plain": [
       "0        USA\n",
       "5     Mixico\n",
       "10    Canada\n",
       "dtype: object"
      ]
     },
     "execution_count": 15,
     "metadata": {},
     "output_type": "execute_result"
    }
   ],
   "source": [
    "ser3 = Series(['USA', 'Mixico', 'Canada'], index = [0,5,10])\n",
    "ser3"
   ]
  },
  {
   "cell_type": "code",
   "execution_count": 16,
   "metadata": {},
   "outputs": [
    {
     "data": {
      "text/plain": [
       "[0, 1, 2, 3, 4, 5, 6, 7, 8, 9, 10, 11, 12, 13, 14]"
      ]
     },
     "execution_count": 16,
     "metadata": {},
     "output_type": "execute_result"
    }
   ],
   "source": [
    "#reindex from 0 to 14\n",
    "\n",
    "ranger = range(15)\n",
    "ranger"
   ]
  },
  {
   "cell_type": "code",
   "execution_count": 17,
   "metadata": {},
   "outputs": [
    {
     "data": {
      "text/plain": [
       "0        USA\n",
       "1        USA\n",
       "2        USA\n",
       "3        USA\n",
       "4        USA\n",
       "5     Mixico\n",
       "6     Mixico\n",
       "7     Mixico\n",
       "8     Mixico\n",
       "9     Mixico\n",
       "10    Canada\n",
       "11    Canada\n",
       "12    Canada\n",
       "13    Canada\n",
       "14    Canada\n",
       "dtype: object"
      ]
     },
     "execution_count": 17,
     "metadata": {},
     "output_type": "execute_result"
    }
   ],
   "source": [
    "#reindex by using method, forwarfd fill\n",
    "#from 0 to 4 fills USA from 5 to 9 fills mexico and from 10 to 14 fills Canada\n",
    "ser3.reindex(ranger, method='ffill')"
   ]
  },
  {
   "cell_type": "code",
   "execution_count": 18,
   "metadata": {},
   "outputs": [
    {
     "data": {
      "text/html": [
       "<div>\n",
       "<style>\n",
       "    .dataframe thead tr:only-child th {\n",
       "        text-align: right;\n",
       "    }\n",
       "\n",
       "    .dataframe thead th {\n",
       "        text-align: left;\n",
       "    }\n",
       "\n",
       "    .dataframe tbody tr th {\n",
       "        vertical-align: top;\n",
       "    }\n",
       "</style>\n",
       "<table border=\"1\" class=\"dataframe\">\n",
       "  <thead>\n",
       "    <tr style=\"text-align: right;\">\n",
       "      <th></th>\n",
       "      <th>col1</th>\n",
       "      <th>col2</th>\n",
       "      <th>col3</th>\n",
       "      <th>col4</th>\n",
       "      <th>col5</th>\n",
       "    </tr>\n",
       "  </thead>\n",
       "  <tbody>\n",
       "    <tr>\n",
       "      <th>A</th>\n",
       "      <td>1.543700</td>\n",
       "      <td>0.556904</td>\n",
       "      <td>0.060915</td>\n",
       "      <td>0.834538</td>\n",
       "      <td>-0.373543</td>\n",
       "    </tr>\n",
       "    <tr>\n",
       "      <th>B</th>\n",
       "      <td>-0.604893</td>\n",
       "      <td>1.302231</td>\n",
       "      <td>-1.376478</td>\n",
       "      <td>0.909049</td>\n",
       "      <td>-0.824801</td>\n",
       "    </tr>\n",
       "    <tr>\n",
       "      <th>D</th>\n",
       "      <td>-1.687419</td>\n",
       "      <td>-0.063674</td>\n",
       "      <td>-0.473259</td>\n",
       "      <td>-0.629689</td>\n",
       "      <td>0.369097</td>\n",
       "    </tr>\n",
       "    <tr>\n",
       "      <th>E</th>\n",
       "      <td>-0.606867</td>\n",
       "      <td>-0.188273</td>\n",
       "      <td>1.076136</td>\n",
       "      <td>1.194199</td>\n",
       "      <td>-0.890427</td>\n",
       "    </tr>\n",
       "    <tr>\n",
       "      <th>F</th>\n",
       "      <td>-0.361036</td>\n",
       "      <td>0.878041</td>\n",
       "      <td>0.544194</td>\n",
       "      <td>1.811204</td>\n",
       "      <td>0.270901</td>\n",
       "    </tr>\n",
       "  </tbody>\n",
       "</table>\n",
       "</div>"
      ],
      "text/plain": [
       "       col1      col2      col3      col4      col5\n",
       "A  1.543700  0.556904  0.060915  0.834538 -0.373543\n",
       "B -0.604893  1.302231 -1.376478  0.909049 -0.824801\n",
       "D -1.687419 -0.063674 -0.473259 -0.629689  0.369097\n",
       "E -0.606867 -0.188273  1.076136  1.194199 -0.890427\n",
       "F -0.361036  0.878041  0.544194  1.811204  0.270901"
      ]
     },
     "execution_count": 18,
     "metadata": {},
     "output_type": "execute_result"
    }
   ],
   "source": [
    "#reindex rows or columns\n",
    "#ran 25 gets a list, reshape indicates matrix 5x5\n",
    "dframe = DataFrame(randn(25).reshape((5,5)), index = ['A','B','D','E','F'], columns = ['col1', 'col2','col3','col4','col5'])\n",
    "dframe"
   ]
  },
  {
   "cell_type": "code",
   "execution_count": 19,
   "metadata": {},
   "outputs": [
    {
     "data": {
      "text/html": [
       "<div>\n",
       "<style>\n",
       "    .dataframe thead tr:only-child th {\n",
       "        text-align: right;\n",
       "    }\n",
       "\n",
       "    .dataframe thead th {\n",
       "        text-align: left;\n",
       "    }\n",
       "\n",
       "    .dataframe tbody tr th {\n",
       "        vertical-align: top;\n",
       "    }\n",
       "</style>\n",
       "<table border=\"1\" class=\"dataframe\">\n",
       "  <thead>\n",
       "    <tr style=\"text-align: right;\">\n",
       "      <th></th>\n",
       "      <th>col1</th>\n",
       "      <th>col2</th>\n",
       "      <th>col3</th>\n",
       "      <th>col4</th>\n",
       "      <th>col5</th>\n",
       "    </tr>\n",
       "  </thead>\n",
       "  <tbody>\n",
       "    <tr>\n",
       "      <th>A</th>\n",
       "      <td>1.543700</td>\n",
       "      <td>0.556904</td>\n",
       "      <td>0.060915</td>\n",
       "      <td>0.834538</td>\n",
       "      <td>-0.373543</td>\n",
       "    </tr>\n",
       "    <tr>\n",
       "      <th>B</th>\n",
       "      <td>-0.604893</td>\n",
       "      <td>1.302231</td>\n",
       "      <td>-1.376478</td>\n",
       "      <td>0.909049</td>\n",
       "      <td>-0.824801</td>\n",
       "    </tr>\n",
       "    <tr>\n",
       "      <th>C</th>\n",
       "      <td>NaN</td>\n",
       "      <td>NaN</td>\n",
       "      <td>NaN</td>\n",
       "      <td>NaN</td>\n",
       "      <td>NaN</td>\n",
       "    </tr>\n",
       "    <tr>\n",
       "      <th>D</th>\n",
       "      <td>-1.687419</td>\n",
       "      <td>-0.063674</td>\n",
       "      <td>-0.473259</td>\n",
       "      <td>-0.629689</td>\n",
       "      <td>0.369097</td>\n",
       "    </tr>\n",
       "    <tr>\n",
       "      <th>E</th>\n",
       "      <td>-0.606867</td>\n",
       "      <td>-0.188273</td>\n",
       "      <td>1.076136</td>\n",
       "      <td>1.194199</td>\n",
       "      <td>-0.890427</td>\n",
       "    </tr>\n",
       "    <tr>\n",
       "      <th>F</th>\n",
       "      <td>-0.361036</td>\n",
       "      <td>0.878041</td>\n",
       "      <td>0.544194</td>\n",
       "      <td>1.811204</td>\n",
       "      <td>0.270901</td>\n",
       "    </tr>\n",
       "  </tbody>\n",
       "</table>\n",
       "</div>"
      ],
      "text/plain": [
       "       col1      col2      col3      col4      col5\n",
       "A  1.543700  0.556904  0.060915  0.834538 -0.373543\n",
       "B -0.604893  1.302231 -1.376478  0.909049 -0.824801\n",
       "C       NaN       NaN       NaN       NaN       NaN\n",
       "D -1.687419 -0.063674 -0.473259 -0.629689  0.369097\n",
       "E -0.606867 -0.188273  1.076136  1.194199 -0.890427\n",
       "F -0.361036  0.878041  0.544194  1.811204  0.270901"
      ]
     },
     "execution_count": 19,
     "metadata": {},
     "output_type": "execute_result"
    }
   ],
   "source": [
    "#reindex with c\n",
    "\n",
    "dframe2 = dframe.reindex(['A','B','C','D','E','F'])\n",
    "dframe2"
   ]
  },
  {
   "cell_type": "code",
   "execution_count": 20,
   "metadata": {},
   "outputs": [
    {
     "data": {
      "text/html": [
       "<div>\n",
       "<style>\n",
       "    .dataframe thead tr:only-child th {\n",
       "        text-align: right;\n",
       "    }\n",
       "\n",
       "    .dataframe thead th {\n",
       "        text-align: left;\n",
       "    }\n",
       "\n",
       "    .dataframe tbody tr th {\n",
       "        vertical-align: top;\n",
       "    }\n",
       "</style>\n",
       "<table border=\"1\" class=\"dataframe\">\n",
       "  <thead>\n",
       "    <tr style=\"text-align: right;\">\n",
       "      <th></th>\n",
       "      <th>col1</th>\n",
       "      <th>col2</th>\n",
       "      <th>col3</th>\n",
       "      <th>col4</th>\n",
       "      <th>col5</th>\n",
       "      <th>col6</th>\n",
       "    </tr>\n",
       "  </thead>\n",
       "  <tbody>\n",
       "    <tr>\n",
       "      <th>A</th>\n",
       "      <td>1.543700</td>\n",
       "      <td>0.556904</td>\n",
       "      <td>0.060915</td>\n",
       "      <td>0.834538</td>\n",
       "      <td>-0.373543</td>\n",
       "      <td>NaN</td>\n",
       "    </tr>\n",
       "    <tr>\n",
       "      <th>B</th>\n",
       "      <td>-0.604893</td>\n",
       "      <td>1.302231</td>\n",
       "      <td>-1.376478</td>\n",
       "      <td>0.909049</td>\n",
       "      <td>-0.824801</td>\n",
       "      <td>NaN</td>\n",
       "    </tr>\n",
       "    <tr>\n",
       "      <th>C</th>\n",
       "      <td>NaN</td>\n",
       "      <td>NaN</td>\n",
       "      <td>NaN</td>\n",
       "      <td>NaN</td>\n",
       "      <td>NaN</td>\n",
       "      <td>NaN</td>\n",
       "    </tr>\n",
       "    <tr>\n",
       "      <th>D</th>\n",
       "      <td>-1.687419</td>\n",
       "      <td>-0.063674</td>\n",
       "      <td>-0.473259</td>\n",
       "      <td>-0.629689</td>\n",
       "      <td>0.369097</td>\n",
       "      <td>NaN</td>\n",
       "    </tr>\n",
       "    <tr>\n",
       "      <th>E</th>\n",
       "      <td>-0.606867</td>\n",
       "      <td>-0.188273</td>\n",
       "      <td>1.076136</td>\n",
       "      <td>1.194199</td>\n",
       "      <td>-0.890427</td>\n",
       "      <td>NaN</td>\n",
       "    </tr>\n",
       "    <tr>\n",
       "      <th>F</th>\n",
       "      <td>-0.361036</td>\n",
       "      <td>0.878041</td>\n",
       "      <td>0.544194</td>\n",
       "      <td>1.811204</td>\n",
       "      <td>0.270901</td>\n",
       "      <td>NaN</td>\n",
       "    </tr>\n",
       "  </tbody>\n",
       "</table>\n",
       "</div>"
      ],
      "text/plain": [
       "       col1      col2      col3      col4      col5  col6\n",
       "A  1.543700  0.556904  0.060915  0.834538 -0.373543   NaN\n",
       "B -0.604893  1.302231 -1.376478  0.909049 -0.824801   NaN\n",
       "C       NaN       NaN       NaN       NaN       NaN   NaN\n",
       "D -1.687419 -0.063674 -0.473259 -0.629689  0.369097   NaN\n",
       "E -0.606867 -0.188273  1.076136  1.194199 -0.890427   NaN\n",
       "F -0.361036  0.878041  0.544194  1.811204  0.270901   NaN"
      ]
     },
     "execution_count": 20,
     "metadata": {},
     "output_type": "execute_result"
    }
   ],
   "source": [
    "#reindex columns\n",
    "\n",
    "new_columns = ['col1', 'col2','col3','col4','col5','col6']\n",
    "\n",
    "dframe2.reindex(columns=new_columns)"
   ]
  },
  {
   "cell_type": "code",
   "execution_count": 21,
   "metadata": {},
   "outputs": [
    {
     "data": {
      "text/html": [
       "<div>\n",
       "<style>\n",
       "    .dataframe thead tr:only-child th {\n",
       "        text-align: right;\n",
       "    }\n",
       "\n",
       "    .dataframe thead th {\n",
       "        text-align: left;\n",
       "    }\n",
       "\n",
       "    .dataframe tbody tr th {\n",
       "        vertical-align: top;\n",
       "    }\n",
       "</style>\n",
       "<table border=\"1\" class=\"dataframe\">\n",
       "  <thead>\n",
       "    <tr style=\"text-align: right;\">\n",
       "      <th></th>\n",
       "      <th>col1</th>\n",
       "      <th>col2</th>\n",
       "      <th>col3</th>\n",
       "      <th>col4</th>\n",
       "      <th>col5</th>\n",
       "    </tr>\n",
       "  </thead>\n",
       "  <tbody>\n",
       "    <tr>\n",
       "      <th>A</th>\n",
       "      <td>1.543700</td>\n",
       "      <td>0.556904</td>\n",
       "      <td>0.060915</td>\n",
       "      <td>0.834538</td>\n",
       "      <td>-0.373543</td>\n",
       "    </tr>\n",
       "    <tr>\n",
       "      <th>B</th>\n",
       "      <td>-0.604893</td>\n",
       "      <td>1.302231</td>\n",
       "      <td>-1.376478</td>\n",
       "      <td>0.909049</td>\n",
       "      <td>-0.824801</td>\n",
       "    </tr>\n",
       "    <tr>\n",
       "      <th>D</th>\n",
       "      <td>-1.687419</td>\n",
       "      <td>-0.063674</td>\n",
       "      <td>-0.473259</td>\n",
       "      <td>-0.629689</td>\n",
       "      <td>0.369097</td>\n",
       "    </tr>\n",
       "    <tr>\n",
       "      <th>E</th>\n",
       "      <td>-0.606867</td>\n",
       "      <td>-0.188273</td>\n",
       "      <td>1.076136</td>\n",
       "      <td>1.194199</td>\n",
       "      <td>-0.890427</td>\n",
       "    </tr>\n",
       "    <tr>\n",
       "      <th>F</th>\n",
       "      <td>-0.361036</td>\n",
       "      <td>0.878041</td>\n",
       "      <td>0.544194</td>\n",
       "      <td>1.811204</td>\n",
       "      <td>0.270901</td>\n",
       "    </tr>\n",
       "  </tbody>\n",
       "</table>\n",
       "</div>"
      ],
      "text/plain": [
       "       col1      col2      col3      col4      col5\n",
       "A  1.543700  0.556904  0.060915  0.834538 -0.373543\n",
       "B -0.604893  1.302231 -1.376478  0.909049 -0.824801\n",
       "D -1.687419 -0.063674 -0.473259 -0.629689  0.369097\n",
       "E -0.606867 -0.188273  1.076136  1.194199 -0.890427\n",
       "F -0.361036  0.878041  0.544194  1.811204  0.270901"
      ]
     },
     "execution_count": 21,
     "metadata": {},
     "output_type": "execute_result"
    }
   ],
   "source": [
    "dframe"
   ]
  },
  {
   "cell_type": "code",
   "execution_count": 24,
   "metadata": {},
   "outputs": [
    {
     "data": {
      "text/html": [
       "<div>\n",
       "<style>\n",
       "    .dataframe thead tr:only-child th {\n",
       "        text-align: right;\n",
       "    }\n",
       "\n",
       "    .dataframe thead th {\n",
       "        text-align: left;\n",
       "    }\n",
       "\n",
       "    .dataframe tbody tr th {\n",
       "        vertical-align: top;\n",
       "    }\n",
       "</style>\n",
       "<table border=\"1\" class=\"dataframe\">\n",
       "  <thead>\n",
       "    <tr style=\"text-align: right;\">\n",
       "      <th></th>\n",
       "      <th>col1</th>\n",
       "      <th>col2</th>\n",
       "      <th>col3</th>\n",
       "      <th>col4</th>\n",
       "      <th>col5</th>\n",
       "      <th>col6</th>\n",
       "    </tr>\n",
       "  </thead>\n",
       "  <tbody>\n",
       "    <tr>\n",
       "      <th>A</th>\n",
       "      <td>1.543700</td>\n",
       "      <td>0.556904</td>\n",
       "      <td>0.060915</td>\n",
       "      <td>0.834538</td>\n",
       "      <td>-0.373543</td>\n",
       "      <td>NaN</td>\n",
       "    </tr>\n",
       "    <tr>\n",
       "      <th>B</th>\n",
       "      <td>-0.604893</td>\n",
       "      <td>1.302231</td>\n",
       "      <td>-1.376478</td>\n",
       "      <td>0.909049</td>\n",
       "      <td>-0.824801</td>\n",
       "      <td>NaN</td>\n",
       "    </tr>\n",
       "    <tr>\n",
       "      <th>C</th>\n",
       "      <td>NaN</td>\n",
       "      <td>NaN</td>\n",
       "      <td>NaN</td>\n",
       "      <td>NaN</td>\n",
       "      <td>NaN</td>\n",
       "      <td>NaN</td>\n",
       "    </tr>\n",
       "    <tr>\n",
       "      <th>D</th>\n",
       "      <td>-1.687419</td>\n",
       "      <td>-0.063674</td>\n",
       "      <td>-0.473259</td>\n",
       "      <td>-0.629689</td>\n",
       "      <td>0.369097</td>\n",
       "      <td>NaN</td>\n",
       "    </tr>\n",
       "    <tr>\n",
       "      <th>E</th>\n",
       "      <td>-0.606867</td>\n",
       "      <td>-0.188273</td>\n",
       "      <td>1.076136</td>\n",
       "      <td>1.194199</td>\n",
       "      <td>-0.890427</td>\n",
       "      <td>NaN</td>\n",
       "    </tr>\n",
       "    <tr>\n",
       "      <th>F</th>\n",
       "      <td>-0.361036</td>\n",
       "      <td>0.878041</td>\n",
       "      <td>0.544194</td>\n",
       "      <td>1.811204</td>\n",
       "      <td>0.270901</td>\n",
       "      <td>NaN</td>\n",
       "    </tr>\n",
       "  </tbody>\n",
       "</table>\n",
       "</div>"
      ],
      "text/plain": [
       "       col1      col2      col3      col4      col5  col6\n",
       "A  1.543700  0.556904  0.060915  0.834538 -0.373543   NaN\n",
       "B -0.604893  1.302231 -1.376478  0.909049 -0.824801   NaN\n",
       "C       NaN       NaN       NaN       NaN       NaN   NaN\n",
       "D -1.687419 -0.063674 -0.473259 -0.629689  0.369097   NaN\n",
       "E -0.606867 -0.188273  1.076136  1.194199 -0.890427   NaN\n",
       "F -0.361036  0.878041  0.544194  1.811204  0.270901   NaN"
      ]
     },
     "execution_count": 24,
     "metadata": {},
     "output_type": "execute_result"
    }
   ],
   "source": [
    "#reindex with lox\n",
    "dframe.loc[['A','B','C','D','E','F'], new_columns]"
   ]
  },
  {
   "cell_type": "code",
   "execution_count": null,
   "metadata": {},
   "outputs": [],
   "source": []
  }
 ],
 "metadata": {
  "kernelspec": {
   "display_name": "Python 2",
   "language": "python",
   "name": "python2"
  },
  "language_info": {
   "codemirror_mode": {
    "name": "ipython",
    "version": 2
   },
   "file_extension": ".py",
   "mimetype": "text/x-python",
   "name": "python",
   "nbconvert_exporter": "python",
   "pygments_lexer": "ipython2",
   "version": "2.7.13"
  }
 },
 "nbformat": 4,
 "nbformat_minor": 2
}
